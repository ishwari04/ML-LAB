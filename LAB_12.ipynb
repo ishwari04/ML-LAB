{
  "nbformat": 4,
  "nbformat_minor": 0,
  "metadata": {
    "colab": {
      "provenance": []
    },
    "kernelspec": {
      "name": "python3",
      "display_name": "Python 3"
    },
    "language_info": {
      "name": "python"
    }
  },
  "cells": [
    {
      "cell_type": "code",
      "execution_count": null,
      "metadata": {
        "id": "KbRe41YZ3cI6"
      },
      "outputs": [],
      "source": [
        "\n",
        "import numpy as np\n",
        "import pandas as pd\n",
        "import matplotlib.pyplot as plt\n"
      ]
    },
    {
      "cell_type": "code",
      "source": [
        "# Dataset (5 records)\n",
        "X = np.array([1., 2., 3., 4., 5.])\n",
        "y = np.array([0., 0., 0., 1., 1.])\n",
        "m = len(y)"
      ],
      "metadata": {
        "id": "_mpHIeyW3iwd"
      },
      "execution_count": null,
      "outputs": []
    },
    {
      "cell_type": "code",
      "source": [
        "def sigmoid(z):\n",
        "    return 1.0 / (1.0 + np.exp(-z))"
      ],
      "metadata": {
        "id": "6I2R9ULU59Pk"
      },
      "execution_count": null,
      "outputs": []
    },
    {
      "cell_type": "code",
      "source": [
        "# Initial params\n",
        "b0 = 0.0\n",
        "b1 = 0.0\n",
        "alpha = 0.1\n",
        "\n",
        "# Initial z and h\n",
        "z = b0 + b1 * X\n",
        "h = sigmoid(z)\n",
        "eps = 1e-15\n",
        "initial_cost = -(1.0 / m) * np.sum(y * np.log(h + eps) + (1 - y)\n",
        "                                    * np.log(1 - h + eps))\n",
        "print(\"Initial h:\", h)\n",
        "print(\"Initial cost:\", initial_cost)\n",
        "\n"
      ],
      "metadata": {
        "colab": {
          "base_uri": "https://localhost:8080/"
        },
        "id": "I5wDNy_36DLb",
        "outputId": "3d01f7aa-753f-4c57-f3cb-5c9a9befb5a1"
      },
      "execution_count": null,
      "outputs": [
        {
          "output_type": "stream",
          "name": "stdout",
          "text": [
            "Initial h: [0.5 0.5 0.5 0.5 0.5]\n",
            "Initial cost: 0.6931471805599433\n"
          ]
        }
      ]
    },
    {
      "cell_type": "code",
      "source": [
        "# Gradients at initial params\n",
        "h_minus_y = h - y\n",
        "grad_b0 = np.mean(h_minus_y)\n",
        "grad_b1 = np.mean(h_minus_y * X)\n",
        "print(\"grad_b0 =\", grad_b0)\n",
        "print(\"grad_b1 =\", grad_b1)\n",
        "\n"
      ],
      "metadata": {
        "id": "qUY_59Pp6GF4",
        "outputId": "000d708e-eee3-44cb-ce88-03303e479c5f",
        "colab": {
          "base_uri": "https://localhost:8080/"
        }
      },
      "execution_count": null,
      "outputs": [
        {
          "output_type": "stream",
          "name": "stdout",
          "text": [
            "grad_b0 = 0.1\n",
            "grad_b1 = -0.3\n"
          ]
        }
      ]
    },
    {
      "cell_type": "code",
      "source": [
        "# One gradient descent update\n",
        "b0_new = b0 - alpha * grad_b0\n",
        "b1_new = b1 - alpha * grad_b1\n",
        "print(\"After one update: b0 =\", b0_new, \", b1 =\", b1_new)\n",
        "\n",
        "# Run gradient descent\n",
        "b0, b1 = 0.0, 0.0\n",
        "n_iter = 2000\n",
        "history = []\n",
        "\n",
        "for it in range(n_iter):\n",
        "    z = b0 + b1 * X\n",
        "    h = sigmoid(z)\n",
        "\n",
        "    grad_b0 = np.mean(h - y)\n",
        "    grad_b1 = np.mean((h - y) * X)\n",
        "    cost = -(1.0 / m) * np.sum(y * np.log(h + eps) + (1 - y)\n",
        "                                * np.log(1 - h + eps))\n",
        "\n",
        "    history.append((it, b0, b1, cost))\n",
        "\n",
        "    b0 = b0 - alpha * grad_b0\n",
        "    b1 = b1 - alpha * grad_b1\n",
        "\n",
        "print(\"\\nFinal parameters after {} iterations:\".format(n_iter))\n",
        "print(\"b0 =\", b0)\n",
        "print(\"b1 =\", b1)\n",
        "\n"
      ],
      "metadata": {
        "id": "gMJ6zqu86IdB",
        "outputId": "8f7031c3-daa9-43a0-8b62-4593268d95ad",
        "colab": {
          "base_uri": "https://localhost:8080/"
        }
      },
      "execution_count": null,
      "outputs": [
        {
          "output_type": "stream",
          "name": "stdout",
          "text": [
            "After one update: b0 = -0.010000000000000002 , b1 = 0.03\n",
            "\n",
            "Final parameters after 2000 iterations:\n",
            "b0 = -8.124229652999901\n",
            "b1 = 2.379077884857112\n"
          ]
        }
      ]
    },
    {
      "cell_type": "code",
      "source": [
        "decision_boundary = -b0 / b1\n",
        "print(\"Decision boundary x =\", decision_boundary)\n",
        "print(\"Final cost =\", history[-1][3])\n",
        "\n",
        "# Plot data and learned probability curve\n",
        "X_plot = np.linspace(0, 6, 20)\n",
        "y_plot = sigmoid(b0 + b1 * X_plot)\n",
        "plt.figure(figsize=(8,5))\n",
        "plt.scatter(X, y)\n",
        "plt.plot(X_plot, y_plot)\n",
        "plt.axhline(0.5, linestyle='--')\n",
        "plt.title(\"Logistic regression fit (manual gradient descent)\")\n",
        "plt.xlabel(\"Study hours\")\n",
        "plt.ylabel(\"P(pass)\")\n",
        "plt.grid(True)\n",
        "plt.show()\n"
      ],
      "metadata": {
        "id": "TvjgamG66MFw",
        "outputId": "5c475d58-f534-4b10-9f66-f01f8db2cb61",
        "colab": {
          "base_uri": "https://localhost:8080/",
          "height": 522
        }
      },
      "execution_count": null,
      "outputs": [
        {
          "output_type": "stream",
          "name": "stdout",
          "text": [
            "Decision boundary x = 3.4148649376764073\n",
            "Final cost = 0.1197651327339016\n"
          ]
        },
        {
          "output_type": "display_data",
          "data": {
            "text/plain": [
              "<Figure size 800x500 with 1 Axes>"
            ],
            "image/png": "[encoded data removed]"
          },
          "metadata": {}
        }
      ]
    }
  ]
}
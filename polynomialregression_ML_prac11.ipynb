{
  "nbformat": 4,
  "nbformat_minor": 0,
  "metadata": {
    "colab": {
      "provenance": []
    },
    "kernelspec": {
      "name": "python3",
      "display_name": "Python 3"
    },
    "language_info": {
      "name": "python"
    }
  },
  "cells": [
    {
      "cell_type": "code",
      "execution_count": 12,
      "metadata": {
        "id": "aS5DSjN4t5BN"
      },
      "outputs": [],
      "source": [
        "import numpy as np\n",
        "import pandas as pd\n",
        "import matplotlib.pyplot as plt\n",
        "from sklearn.linear_model import LinearRegression\n",
        "from sklearn.preprocessing import PolynomialFeatures\n",
        "from sklearn.metrics import r2_score, mean_squared_error, mean_absolute_error\n"
      ]
    },
    {
      "cell_type": "code",
      "source": [
        "x = np.array([1, 2, 3, 4, 5]).reshape(-1, 1)\n",
        "y = np.array([20, 40, 50, 65, 80])"
      ],
      "metadata": {
        "id": "Fk_HNEitv9HL"
      },
      "execution_count": 13,
      "outputs": []
    },
    {
      "cell_type": "code",
      "source": [
        "x = np.array([1, 2, 3, 4, 5]).reshape(-1, 1)\n",
        "y = np.array([20, 40, 50, 65, 80])"
      ],
      "metadata": {
        "id": "GfHMEbgFwRdS"
      },
      "execution_count": 14,
      "outputs": []
    },
    {
      "cell_type": "code",
      "source": [
        "#Design matrix\n",
        "X_manual = np.column_stack((np.ones(len(x)), x, x**2))"
      ],
      "metadata": {
        "id": "w6xflLekwwDv"
      },
      "execution_count": 15,
      "outputs": []
    },
    {
      "cell_type": "code",
      "source": [
        "#Normal Equation\n",
        "beta = np.linalg.inv(X_manual.T @ X_manual) @ (X_manual.T @ y)"
      ],
      "metadata": {
        "id": "6kZ0l1_XxBPr"
      },
      "execution_count": 16,
      "outputs": []
    },
    {
      "cell_type": "code",
      "source": [
        "print(\"Coefficients (B0, B1, B2): \", beta)"
      ],
      "metadata": {
        "colab": {
          "base_uri": "https://localhost:8080/"
        },
        "id": "1XEBp47Wxh7g",
        "outputId": "c83bb830-eda7-4eea-8c97-b4c87926641d"
      },
      "execution_count": 17,
      "outputs": [
        {
          "output_type": "stream",
          "name": "stdout",
          "text": [
            "Coefficients (B0, B1, B2):  [ 5.         16.64285714 -0.35714286]\n"
          ]
        }
      ]
    },
    {
      "cell_type": "code",
      "source": [
        "y_pred_manual = X_manual @ beta"
      ],
      "metadata": {
        "id": "Xq4LLmPexq_5"
      },
      "execution_count": 18,
      "outputs": []
    },
    {
      "cell_type": "code",
      "source": [
        "#metrics\n",
        "mae = mean_absolute_error(y, y_pred_manual)\n",
        "mse = mean_squared_error(y, y_pred_manual)\n",
        "rmse = np.sqrt(mse)\n",
        "r2 = r2_score(y, y_pred_manual)"
      ],
      "metadata": {
        "id": "IkvLtmv-xxsc"
      },
      "execution_count": 20,
      "outputs": []
    },
    {
      "cell_type": "code",
      "source": [
        "print(\"Mean absolute error: \",mae)\n",
        "print(\"Mean squared error: \",mse)\n",
        "print(\"Root mean squared error: \",rmse)\n",
        "print(\"R2 score: \", r2)"
      ],
      "metadata": {
        "colab": {
          "base_uri": "https://localhost:8080/"
        },
        "id": "Yeup4IF_zyD5",
        "outputId": "80d1ce64-f590-4e05-bc57-b89f0fe8118b"
      },
      "execution_count": 21,
      "outputs": [
        {
          "output_type": "stream",
          "name": "stdout",
          "text": [
            "Mean absolute error:  1.5428571428571765\n",
            "Mean squared error:  3.142857142857151\n",
            "Root mean squared error:  1.772810520855839\n",
            "R2 score:  0.9925876010781671\n"
          ]
        }
      ]
    }
  ]
}